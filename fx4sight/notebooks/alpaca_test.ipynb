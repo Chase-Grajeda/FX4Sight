{
 "cells": [
  {
   "cell_type": "markdown",
   "metadata": {},
   "source": [
    "### Test to verify your API keys are validated\n",
    "After pulling your keys from the conda environment, verify they are correctly printed below.  \n",
    "Never share your keys on Git. They can be exposed when looking through commit history"
   ]
  },
  {
   "cell_type": "code",
   "execution_count": null,
   "metadata": {},
   "outputs": [],
   "source": [
    "import os\n",
    "alpaca_key = os.environ.get(\"ALPACA_KEY\")\n",
    "alpaca_sec = os.environ.get(\"ALPACA_SEC_KEY\")"
   ]
  },
  {
   "cell_type": "code",
   "execution_count": null,
   "metadata": {},
   "outputs": [],
   "source": [
    "print(alpaca_key)\n",
    "print(alpaca_sec)"
   ]
  }
 ],
 "metadata": {
  "kernelspec": {
   "display_name": "fx4s",
   "language": "python",
   "name": "python3"
  },
  "language_info": {
   "codemirror_mode": {
    "name": "ipython",
    "version": 3
   },
   "file_extension": ".py",
   "mimetype": "text/x-python",
   "name": "python",
   "nbconvert_exporter": "python",
   "pygments_lexer": "ipython3",
   "version": "3.12.4"
  }
 },
 "nbformat": 4,
 "nbformat_minor": 2
}
